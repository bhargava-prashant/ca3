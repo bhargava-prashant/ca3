{
 "cells": [
  {
   "cell_type": "code",
   "execution_count": 13,
   "id": "a4858261",
   "metadata": {},
   "outputs": [
    {
     "name": "stdout",
     "output_type": "stream",
     "text": [
      "4\n",
      "b.tech\n",
      "amit\n",
      "28\n",
      "****************\n",
      "5\n",
      "b.tech\n",
      "abhi\n",
      "30\n",
      "student 2 will clear exam in 5 years\n"
     ]
    }
   ],
   "source": [
    "class student:\n",
    "    def __init__(z,n,a):\n",
    "        z.name=n\n",
    "        z.age=a\n",
    "        z.dura=4\n",
    "        z.prog=\"b.tech\"\n",
    "    def show(z):\n",
    "        print(z.dura)\n",
    "        print(z.prog)\n",
    "        print(z.name)\n",
    "        print(z.age)\n",
    "s1=student(\"abhi\",30)\n",
    "s2=student(\"amit\",28)\n",
    "s2.show()\n",
    "s1.dura=5\n",
    "print(\"****************\")\n",
    "s1.show()\n",
    "print(\"student 2 will clear exam in\",s1.dura,\"years\")"
   ]
  },
  {
   "cell_type": "code",
   "execution_count": 20,
   "id": "51dd7f17",
   "metadata": {},
   "outputs": [
    {
     "name": "stdout",
     "output_type": "stream",
     "text": [
      "how many rectangles2\n",
      "length4\n",
      "breadth5\n"
     ]
    },
    {
     "ename": "TypeError",
     "evalue": "'int' object is not callable",
     "output_type": "error",
     "traceback": [
      "\u001b[1;31m---------------------------------------------------------------------------\u001b[0m",
      "\u001b[1;31mTypeError\u001b[0m                                 Traceback (most recent call last)",
      "Input \u001b[1;32mIn [20]\u001b[0m, in \u001b[0;36m<cell line: 11>\u001b[1;34m()\u001b[0m\n\u001b[0;32m     13\u001b[0m a\u001b[38;5;241m=\u001b[39m\u001b[38;5;28mint\u001b[39m(\u001b[38;5;28minput\u001b[39m(\u001b[38;5;124m\"\u001b[39m\u001b[38;5;124mbreadth\u001b[39m\u001b[38;5;124m\"\u001b[39m))\n\u001b[0;32m     14\u001b[0m f\u001b[38;5;241m.\u001b[39mappend(shapes(n,a))\n\u001b[1;32m---> 15\u001b[0m \u001b[43mf\u001b[49m\u001b[43m[\u001b[49m\u001b[43mi\u001b[49m\u001b[43m]\u001b[49m\u001b[38;5;241;43m.\u001b[39;49m\u001b[43marea\u001b[49m\u001b[43m(\u001b[49m\u001b[43m)\u001b[49m\n",
      "\u001b[1;31mTypeError\u001b[0m: 'int' object is not callable"
     ]
    }
   ],
   "source": [
    "class shapes:\n",
    "    def __init__(z,n,a):\n",
    "        z.breadth=n\n",
    "        z.length=a\n",
    "        \n",
    "    def show(z):\n",
    "        print(z.area)\n",
    "\n",
    "d=int(input(\"how many rectangles\"))\n",
    "f=[]\n",
    "for i in range(d):\n",
    "    n=int(input(\"length\"))\n",
    "    a=int(input(\"breadth\"))\n",
    "    f.append(shapes(n,a))\n",
    "    f[i].area()\n",
    "    "
   ]
  },
  {
   "cell_type": "code",
   "execution_count": 26,
   "id": "3b2a91d5",
   "metadata": {},
   "outputs": [
    {
     "name": "stdout",
     "output_type": "stream",
     "text": [
      "how many rectangles2\n",
      "length:4\n",
      "breadth:5\n",
      "area is 20\n",
      "perimeter is 18\n",
      "length:5\n",
      "breadth:5\n",
      "area is 25\n",
      "perimeter is 20\n"
     ]
    }
   ],
   "source": [
    "class rectangle:\n",
    "    def __init__(x,l,b):\n",
    "        x.length=l\n",
    "        x.breadth=b\n",
    "    def compute(x):\n",
    "        x.area=x.length*x.breadth\n",
    "        x.perimetr=2*(x.length+x.breadth)\n",
    "    def display(x):\n",
    "        print(\"area is\",x.area)\n",
    "        print(\"perimeter is\",x.perimetr)\n",
    "\n",
    "n=int(input(\"how many rectangles\"))\n",
    "list1=[]\n",
    "for i in range(n):\n",
    "    l=int(input(\"length:\"))\n",
    "    b=int(input(\"breadth:\"))\n",
    "    list1.append(rectangle(l,b))\n",
    "    list1[i].compute()\n",
    "    list1[i].display()"
   ]
  },
  {
   "cell_type": "code",
   "execution_count": null,
   "id": "258d8038",
   "metadata": {},
   "outputs": [],
   "source": [
    "class salary:\n",
    "    def __init__(x,l,b):\n",
    "        x.name=l\n",
    "        x.salary=b\n",
    "    def compute(x):\n",
    "        x.area=x.length*x.breadth\n",
    "        x.perimetr=2*(x.length+x.breadth)\n",
    "    def display(x):\n",
    "        print(\"area is\",x.area)\n",
    "        print(\"perimeter is\",x.perimetr)\n",
    "\n",
    "n=int(input(\"how many rectangles\"))\n",
    "list1=[]\n",
    "for i in range(n):\n",
    "    l=int(input(\"length:\"))\n",
    "    b=int(input(\"breadth:\"))\n",
    "    list1.append(rectangle(l,b))\n",
    "    list1[i].compute()\n",
    "    list1[i].display()"
   ]
  },
  {
   "cell_type": "code",
   "execution_count": 5,
   "id": "2d1b3f38",
   "metadata": {},
   "outputs": [
    {
     "ename": "NameError",
     "evalue": "name 'a' is not defined",
     "output_type": "error",
     "traceback": [
      "\u001b[1;31m---------------------------------------------------------------------------\u001b[0m",
      "\u001b[1;31mNameError\u001b[0m                                 Traceback (most recent call last)",
      "Input \u001b[1;32mIn [5]\u001b[0m, in \u001b[0;36m<cell line: 14>\u001b[1;34m()\u001b[0m\n\u001b[0;32m     12\u001b[0m p1\u001b[38;5;241m=\u001b[39mParent1(\u001b[38;5;241m4\u001b[39m)\n\u001b[0;32m     13\u001b[0m p2\u001b[38;5;241m=\u001b[39mParent2(\u001b[38;5;241m3\u001b[39m)\n\u001b[1;32m---> 14\u001b[0m c1\u001b[38;5;241m=\u001b[39m\u001b[43mchild\u001b[49m\u001b[43m(\u001b[49m\u001b[43m)\u001b[49m\n",
      "Input \u001b[1;32mIn [5]\u001b[0m, in \u001b[0;36mchild.__init__\u001b[1;34m(self)\u001b[0m\n\u001b[0;32m      8\u001b[0m \u001b[38;5;28;01mdef\u001b[39;00m \u001b[38;5;21m__init__\u001b[39m(\u001b[38;5;28mself\u001b[39m):\n\u001b[1;32m----> 9\u001b[0m     \u001b[38;5;28msuper\u001b[39m\u001b[38;5;241m.\u001b[39m\u001b[38;5;21m__init__\u001b[39m(\u001b[43ma\u001b[49m,b)\n\u001b[0;32m     10\u001b[0m     \u001b[38;5;28mself\u001b[39m\u001b[38;5;241m.\u001b[39mresult\u001b[38;5;241m=\u001b[39m\u001b[38;5;28mself\u001b[39m\u001b[38;5;241m.\u001b[39ma\u001b[38;5;241m+\u001b[39m\u001b[38;5;28mself\u001b[39m\u001b[38;5;241m.\u001b[39mb\n\u001b[0;32m     11\u001b[0m     \u001b[38;5;28mprint\u001b[39m(\u001b[38;5;28mself\u001b[39m\u001b[38;5;241m.\u001b[39mresult)\n",
      "\u001b[1;31mNameError\u001b[0m: name 'a' is not defined"
     ]
    }
   ],
   "source": [
    "class Parent1:\n",
    "    def __init__(self,a):\n",
    "        self.a=a\n",
    "class Parent2:\n",
    "    def __init__(self,b):\n",
    "        self.b=b\n",
    "class child(Parent1,Parent2):\n",
    "    def __init__(self):\n",
    "        super.__init__(a,b)\n",
    "        self.result=self.a+self.b\n",
    "        print(self.result)\n",
    "p1=Parent1(4)\n",
    "p2=Parent2(3)\n",
    "c1=child()"
   ]
  },
  {
   "cell_type": "code",
   "execution_count": 10,
   "id": "1db01a3b",
   "metadata": {},
   "outputs": [
    {
     "name": "stdout",
     "output_type": "stream",
     "text": [
      "5\n",
      "4\n",
      "Sum is: 9\n"
     ]
    }
   ],
   "source": [
    "class Parent1:\n",
    "    def input1(self,x):\n",
    "        self.x = x\n",
    "\n",
    "class Parent2:\n",
    "    def input2(self,y):\n",
    "        self.y = y\n",
    "\n",
    "class Child(Parent1, Parent2):\n",
    "    def add(self):\n",
    "        super().input1(x)\n",
    "        super().input2(y)\n",
    "        self.z = self.x + self.y\n",
    "        print(\"Sum is:\", self.z)\n",
    "x=int(input())\n",
    "y=int(input())\n",
    "obj = Child()\n",
    "obj.add()"
   ]
  },
  {
   "cell_type": "code",
   "execution_count": null,
   "id": "6bcdcb0d",
   "metadata": {},
   "outputs": [],
   "source": [
    "#inputting all the contacts\n",
    "\n",
    "contacts= {\n",
    "\"Prashant\": 7263738387,\n",
    "\"Harshit\": 7584737373,\n",
    "\"Shreya\":3256342542,\n",
    "\"Abhinav\":3453646543,\n",
    "\"kartikey\":6784536343,\n",
    "\"Devansh\":6854443334,\n",
    "\"Rohini\":9754463336\n",
    "}\n",
    "\n",
    "#Searches the dictionary and prints the key value pair incase the key isn't present, it adds it to the dict and prints it''\n",
    "\n",
    "def single_search():\n",
    "    name=input(\">>>Enter the name of the contact you wish to search for: \").upper()\n",
    "    if name in contacts:\n",
    "        print(f\"\\n{name}: {contacts[name]}\")\n",
    "    else:\n",
    "        b=input(\"\\nNo such contact found😑\\nIf you wish to add one, type 'Yes' else type 'No': \").lower()\n",
    "        if b==\"yes\":\n",
    "            new_contact(name)\n",
    "            print(f\"{name}: {contacts[name]}\")\n",
    "        elif b==\"no\":\n",
    "            pass\n",
    "        else:\n",
    "            print(\"Enter either yes or no nigga\")\n",
    "\n",
    "#Searches the dictionary and prints multiple key value pair and incase any key isn't present, it adds it to the dict and prints it along with the others.\n",
    "\n",
    "def multiple_search():\n",
    "         result={}\n",
    "\t     s1=[]\n",
    "\t     s=0\n",
    "\t     name1=input(\">>>Enter the names of the contacts seperated by commas😮‍💨: \").split(\",\")\n",
    "\t     for i in name1:\n",
    "\t     \t\t\ti=i.upper()\n",
    "\t     \t\t\tif i in contacts:\n",
    "\t     \t\t\t\tresult[i]=contacts[i]\n",
    "\t     \t\t\telse:\n",
    "\t     \t\t\t\ts1.append(i)\n",
    "\t     \t\t\t\ts+=1\n",
    "\t     if s>0:\n",
    "\t     \tc=(input(f\"\\nCouldn't find contacts {s1} 😕. \\nDo you wish to add them?😗 Enter Yes or No: \")).lower()\n",
    "\t     \tif c==\"yes\":\n",
    "\t     \t\tfor i in s1:\n",
    "\t     \t\t\tnew_contact(i)\n",
    "\t     \t\t\tif i in contacts:\n",
    "\t     \t\t\t\tresult[i]=contacts[i]\n",
    "\t     \t\tprint()\n",
    "\t     \t\tprint(result)\n",
    "\t     \telif c==\"no\":\n",
    "\t     \t\tprint()\n",
    "\t     \t\tif result=={}:\n",
    "\t     \t\t\tpass\n",
    "\t     \telse:\n",
    "\t     \t\tprint(\"\\nUnpadh\")\n",
    "\t     else:\n",
    "\t     \tprint()\n",
    "\t     \tprint(result)\n",
    "\t     \t\n",
    "#adds new contact every time its called\t\t\t\n",
    "\t     \t\t\n",
    "def new_contact(contact_name):\n",
    "\t     print()\n",
    "\t     contact_number=int(input(\">>>Enter their contact number👀: \"))\n",
    "\t     contacts[contact_name]=contact_number\n",
    "\t     \n",
    "choice=int(input(\"Would you like to: \\n\\n1. Search for a single contact👤 \\n2. List all the contacts📜 \\n3. Search for multiple contacts👥 \\n \\n>>>Enter your choice: \"))\n",
    "\n",
    "if choice==1:\n",
    "\tsingle_search()\n",
    "\t\n",
    "elif choice==2:\n",
    "\tprint()\n",
    "\tprint(contacts)\n",
    "\t\n",
    "elif choice==3:\n",
    "\tmultiple_search()\n",
    "\n",
    "else:\n",
    "\tprint(\"Choose from the given options!\")\n"
   ]
  },
  {
   "cell_type": "code",
   "execution_count": null,
   "id": "94170c55",
   "metadata": {},
   "outputs": [],
   "source": []
  }
 ],
 "metadata": {
  "kernelspec": {
   "display_name": "Python 3 (ipykernel)",
   "language": "python",
   "name": "python3"
  },
  "language_info": {
   "codemirror_mode": {
    "name": "ipython",
    "version": 3
   },
   "file_extension": ".py",
   "mimetype": "text/x-python",
   "name": "python",
   "nbconvert_exporter": "python",
   "pygments_lexer": "ipython3",
   "version": "3.9.12"
  }
 },
 "nbformat": 4,
 "nbformat_minor": 5
}
